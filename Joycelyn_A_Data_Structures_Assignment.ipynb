{
 "cells": [
  {
   "cell_type": "code",
   "execution_count": 19,
   "id": "21fe674e-d556-4c18-b1d2-64aa1ed50e3c",
   "metadata": {},
   "outputs": [],
   "source": [
    "#LISTS"
   ]
  },
  {
   "cell_type": "code",
   "execution_count": 1,
   "id": "369a0940-b8cb-482c-a26c-c1a76b4115c0",
   "metadata": {},
   "outputs": [],
   "source": [
    "Fruits = [\"apple\",\"banana\",\"watermelon\",\"pineappe\",\"guava\",\"pawpaw\"]"
   ]
  },
  {
   "cell_type": "code",
   "execution_count": 2,
   "id": "1e9aa78c-6a02-4307-8dbb-48faa979ff22",
   "metadata": {},
   "outputs": [
    {
     "name": "stdout",
     "output_type": "stream",
     "text": [
      "['apple', 'banana', 'watermelon', 'pineappe', 'guava', 'pawpaw', 'orange']\n"
     ]
    }
   ],
   "source": [
    "Fruits.append(\"orange\")\n",
    "print(Fruits)"
   ]
  },
  {
   "cell_type": "code",
   "execution_count": 3,
   "id": "c51be9fa-8fcf-4b47-b05b-24237902fb6f",
   "metadata": {},
   "outputs": [
    {
     "name": "stdout",
     "output_type": "stream",
     "text": [
      "['apple', 'banana', 'watermelon', 'pineappe', 'guava', 'pawpaw', 'orange', 'grape', 'mango']\n"
     ]
    }
   ],
   "source": [
    "Fruits.extend([\"grape\",\"mango\"])\n",
    "print(Fruits)"
   ]
  },
  {
   "cell_type": "code",
   "execution_count": 4,
   "id": "2416fcc0-e1c2-4522-9d1a-9f17184b1a00",
   "metadata": {},
   "outputs": [],
   "source": [
    "numbers =[3,6,9,12,15]"
   ]
  },
  {
   "cell_type": "code",
   "execution_count": 5,
   "id": "fc55723a-1d6a-4656-8a83-8738da9ca045",
   "metadata": {},
   "outputs": [
    {
     "name": "stdout",
     "output_type": "stream",
     "text": [
      "[3, 6, 99, 9, 12, 15]\n"
     ]
    }
   ],
   "source": [
    "numbers.insert(2,99)\n",
    "print(numbers)"
   ]
  },
  {
   "cell_type": "code",
   "execution_count": 6,
   "id": "87b222b0-558f-4d2e-953b-5b79512b6734",
   "metadata": {},
   "outputs": [
    {
     "name": "stdout",
     "output_type": "stream",
     "text": [
      "[3, 99, 9, 12, 15]\n"
     ]
    }
   ],
   "source": [
    "numbers.remove(6)\n",
    "print(numbers)"
   ]
  },
  {
   "cell_type": "code",
   "execution_count": 7,
   "id": "f9e405a2-fbe8-4bfc-9a21-f0a5a61bd880",
   "metadata": {},
   "outputs": [],
   "source": [
    "fruits=[\"apple\",\"banana\",\"cherry\"]"
   ]
  },
  {
   "cell_type": "code",
   "execution_count": 8,
   "id": "b07a668f-4ac2-406d-85ff-79646ecd6295",
   "metadata": {},
   "outputs": [
    {
     "name": "stdout",
     "output_type": "stream",
     "text": [
      "['cherry', 'banana', 'apple']\n"
     ]
    }
   ],
   "source": [
    "fruits.reverse()\n",
    "print(fruits)"
   ]
  },
  {
   "cell_type": "code",
   "execution_count": 9,
   "id": "1442cc7e-3021-41f1-93ad-c3228b23d7eb",
   "metadata": {},
   "outputs": [],
   "source": [
    "numbers_1 =[12,4,456,78,23,1]"
   ]
  },
  {
   "cell_type": "code",
   "execution_count": 10,
   "id": "5cdda305-68f7-4ed9-bb04-cd5dd0866049",
   "metadata": {},
   "outputs": [
    {
     "name": "stdout",
     "output_type": "stream",
     "text": [
      "[456, 78, 23, 12, 4, 1]\n"
     ]
    }
   ],
   "source": [
    "numbers_1.sort(reverse=True)\n",
    "print(numbers_1)"
   ]
  },
  {
   "cell_type": "code",
   "execution_count": 11,
   "id": "b6ebc687-03d5-4a59-b7c6-59d7e7b3d4ea",
   "metadata": {},
   "outputs": [],
   "source": [
    "numbers_2 =[5, 1, 5, 2, 5, 3]"
   ]
  },
  {
   "cell_type": "code",
   "execution_count": 12,
   "id": "aa026c58-5572-4e86-b8d5-18682b430292",
   "metadata": {},
   "outputs": [
    {
     "name": "stdout",
     "output_type": "stream",
     "text": [
      "3\n"
     ]
    }
   ],
   "source": [
    "count_5=numbers_2.count(5)\n",
    "print(count_5)"
   ]
  },
  {
   "cell_type": "code",
   "execution_count": 13,
   "id": "f6bf48a4-97ea-4e8f-9df6-3cb3727ad42e",
   "metadata": {},
   "outputs": [],
   "source": [
    "numbers_3=[10, 20, 30, 40]"
   ]
  },
  {
   "cell_type": "code",
   "execution_count": 14,
   "id": "f8a1eda5-f9d2-44e4-836a-67f32ec6ab57",
   "metadata": {},
   "outputs": [
    {
     "name": "stdout",
     "output_type": "stream",
     "text": [
      "40\n"
     ]
    }
   ],
   "source": [
    "numberpop=numbers_3.pop()\n",
    "print(numberpop)"
   ]
  },
  {
   "cell_type": "code",
   "execution_count": 15,
   "id": "f7034266-8b15-4fdc-b994-32eb6b25e16e",
   "metadata": {},
   "outputs": [
    {
     "name": "stdout",
     "output_type": "stream",
     "text": [
      "['cherry', 'banana', 'apple', 'kiwi']\n"
     ]
    }
   ],
   "source": [
    "fruits_1=fruits.copy()\n",
    "fruits_1.append(\"kiwi\")\n",
    "print(fruits_1)"
   ]
  },
  {
   "cell_type": "code",
   "execution_count": 16,
   "id": "7de108f3-b6a5-413c-849d-308d02780e9c",
   "metadata": {},
   "outputs": [],
   "source": [
    "numbers_4=[10, 20, 30, 40]"
   ]
  },
  {
   "cell_type": "code",
   "execution_count": 17,
   "id": "0e9cd367-0c29-405f-affa-deecaf344ee1",
   "metadata": {},
   "outputs": [
    {
     "name": "stdout",
     "output_type": "stream",
     "text": [
      "1\n"
     ]
    }
   ],
   "source": [
    "index_20=numbers_4.index(20)\n",
    "print(index_20)"
   ]
  },
  {
   "cell_type": "code",
   "execution_count": 20,
   "id": "a1ffde32-f2f1-4bdd-aaad-fdac396a08da",
   "metadata": {},
   "outputs": [],
   "source": [
    "#TUPLES"
   ]
  },
  {
   "cell_type": "code",
   "execution_count": 21,
   "id": "304b7565-816f-4a7b-a6d3-3d89dc92fe9c",
   "metadata": {},
   "outputs": [
    {
     "name": "stdout",
     "output_type": "stream",
     "text": [
      "200\n"
     ]
    }
   ],
   "source": [
    "tup =(100,200,300,400,500)\n",
    "print(tup[1])"
   ]
  },
  {
   "cell_type": "code",
   "execution_count": 22,
   "id": "d18ec019-58ba-4c65-a41f-7eb4da21d9d5",
   "metadata": {},
   "outputs": [
    {
     "name": "stdout",
     "output_type": "stream",
     "text": [
      "2\n"
     ]
    }
   ],
   "source": [
    "tup_1=(5, 10, 15, 10, 20)\n",
    "count_10=tup_1.count(10)\n",
    "print(count_10)"
   ]
  },
  {
   "cell_type": "code",
   "execution_count": 23,
   "id": "e737fd79-b885-4982-962d-40449edc459f",
   "metadata": {},
   "outputs": [],
   "source": [
    "tup_2=(1, 2, 3, 4, 5)"
   ]
  },
  {
   "cell_type": "code",
   "execution_count": 33,
   "id": "ff12a800-c6fa-4c7f-9959-2eacafb84486",
   "metadata": {},
   "outputs": [
    {
     "name": "stdout",
     "output_type": "stream",
     "text": [
      "[1, 2, 3, 4, 5, 6]\n"
     ]
    }
   ],
   "source": [
    "tup_2lists =list(tup_2)\n",
    "tup_2lists.append(6)\n",
    "print(tup_2lists)"
   ]
  },
  {
   "cell_type": "code",
   "execution_count": 34,
   "id": "5b632891-1c97-4ae1-8321-3a9f43668226",
   "metadata": {},
   "outputs": [
    {
     "name": "stdout",
     "output_type": "stream",
     "text": [
      "(1, 2, 3, 4, 5, 6)\n"
     ]
    }
   ],
   "source": [
    "tupl=tuple(tup_2lists)\n",
    "print(tupl)"
   ]
  },
  {
   "cell_type": "code",
   "execution_count": 39,
   "id": "246161ad-a8dd-4cfb-b3ad-ee4498952c46",
   "metadata": {},
   "outputs": [
    {
     "name": "stdout",
     "output_type": "stream",
     "text": [
      "50\n"
     ]
    }
   ],
   "source": [
    "numerals=(10, 20, 30, 40, 50)\n",
    "print(numerals[4])"
   ]
  },
  {
   "cell_type": "code",
   "execution_count": 44,
   "id": "2f3603f8-2db1-4040-9a01-78b0b99d649b",
   "metadata": {},
   "outputs": [
    {
     "name": "stdout",
     "output_type": "stream",
     "text": [
      "red\n",
      "green\n",
      "blue\n"
     ]
    }
   ],
   "source": [
    "pack=('red', 'green', 'blue')\n",
    "#packing tuple into variables\n",
    "pack1,pack2,pack3=pack\n",
    "#printing them\n",
    "print(pack1)\n",
    "print(pack2)\n",
    "print(pack3)"
   ]
  },
  {
   "cell_type": "code",
   "execution_count": 45,
   "id": "65d00e4b-bdcf-4918-8ae9-3dd6107ddcc3",
   "metadata": {},
   "outputs": [],
   "source": [
    "#SETS"
   ]
  },
  {
   "cell_type": "code",
   "execution_count": 49,
   "id": "8b8ec5ec-dc40-460a-9864-b282d161a1a6",
   "metadata": {},
   "outputs": [
    {
     "name": "stdout",
     "output_type": "stream",
     "text": [
      "{1, 2, 3, 4, 5, 6}\n"
     ]
    }
   ],
   "source": [
    "set_1={1,2,3,4}\n",
    "set_2={3,4,5,6}\n",
    "sets=set_1.union(set_2)\n",
    "print(sets)"
   ]
  },
  {
   "cell_type": "code",
   "execution_count": 50,
   "id": "47fbad83-b2e6-4317-89ba-5dd8e7b8d3fa",
   "metadata": {},
   "outputs": [
    {
     "name": "stdout",
     "output_type": "stream",
     "text": [
      "{2, 4}\n"
     ]
    }
   ],
   "source": [
    "set_3={2,4,6,8}\n",
    "set_4={1,2,3,4}\n",
    "sets_1=set_3.intersection(set_4)\n",
    "print(sets_1)"
   ]
  },
  {
   "cell_type": "code",
   "execution_count": 53,
   "id": "1aec6a0b-689d-45cc-9492-95d51752ce74",
   "metadata": {},
   "outputs": [
    {
     "name": "stdout",
     "output_type": "stream",
     "text": [
      "{1, 2, 3, 4, 5, 10}\n"
     ]
    }
   ],
   "source": [
    "num={1,2,3,4,5}\n",
    "num.add(10)\n",
    "print(num)"
   ]
  },
  {
   "cell_type": "code",
   "execution_count": 55,
   "id": "111675f6-738c-4b88-b26e-e8fada256d40",
   "metadata": {},
   "outputs": [
    {
     "name": "stdout",
     "output_type": "stream",
     "text": [
      "{40, 10, 30}\n"
     ]
    }
   ],
   "source": [
    "my_set={10,20,30,40}\n",
    "my_set.discard(20)\n",
    "print(my_set)"
   ]
  },
  {
   "cell_type": "code",
   "execution_count": 59,
   "id": "97431b67-fb3b-484a-b1ca-c5ec7730b11a",
   "metadata": {},
   "outputs": [
    {
     "name": "stdout",
     "output_type": "stream",
     "text": [
      "{10}\n"
     ]
    }
   ],
   "source": [
    "x={10,20,30}\n",
    "y={20,30,40}\n",
    "diff=x.difference(y)\n",
    "print(diff)"
   ]
  },
  {
   "cell_type": "code",
   "execution_count": 61,
   "id": "796d7bd7-00ba-4edb-8132-6aaa8ea1a18d",
   "metadata": {},
   "outputs": [
    {
     "name": "stdout",
     "output_type": "stream",
     "text": [
      "None\n"
     ]
    }
   ],
   "source": [
    "z={1,2,3}\n",
    "clear_z=z.clear()\n",
    "print(clear_z)"
   ]
  },
  {
   "cell_type": "code",
   "execution_count": 62,
   "id": "9b9dfc10-e62b-45fb-8e3e-93650a692a82",
   "metadata": {},
   "outputs": [
    {
     "name": "stdout",
     "output_type": "stream",
     "text": [
      "{1, 2, 3, 4, 5}\n"
     ]
    }
   ],
   "source": [
    "w=[1, 2, 2, 3, 3, 4, 5, 5]\n",
    "set_w=set(w)\n",
    "print(set_w)"
   ]
  },
  {
   "cell_type": "code",
   "execution_count": 63,
   "id": "a777c2ba-f4dc-4550-a54d-d3fdc50c7e70",
   "metadata": {},
   "outputs": [],
   "source": [
    "#DICTIONARIES"
   ]
  },
  {
   "cell_type": "code",
   "execution_count": 65,
   "id": "45381bfa-6f98-4337-83e9-93f9e7d7c4ab",
   "metadata": {},
   "outputs": [
    {
     "name": "stdout",
     "output_type": "stream",
     "text": [
      "20\n"
     ]
    }
   ],
   "source": [
    "student = {'name': 'Alice', 'age': 20, 'grade': 'A'}\n",
    "alice_age=student.get('age')\n",
    "print(alice_age)"
   ]
  },
  {
   "cell_type": "code",
   "execution_count": 67,
   "id": "ed94c6b5-72fb-4ec2-b364-0a457040a767",
   "metadata": {},
   "outputs": [
    {
     "name": "stdout",
     "output_type": "stream",
     "text": [
      "{'name': 'Alice', 'age': 20, 'grade': 'A', 'school': 'XYZ High School'}\n"
     ]
    }
   ],
   "source": [
    "student.update({'school': 'XYZ High School'})\n",
    "print(student)"
   ]
  },
  {
   "cell_type": "code",
   "execution_count": 69,
   "id": "7273277c-23e7-4a43-a05a-41a0d5916a81",
   "metadata": {},
   "outputs": [
    {
     "name": "stdout",
     "output_type": "stream",
     "text": [
      "dict_keys(['name', 'age', 'city'])\n"
     ]
    }
   ],
   "source": [
    "person = {'name': 'John', 'age': 30, 'city': 'New York'}\n",
    "person_new=person.keys()\n",
    "print(person_new)"
   ]
  },
  {
   "cell_type": "code",
   "execution_count": 70,
   "id": "bf0f6497-2d91-4660-9c26-30f755ca5868",
   "metadata": {},
   "outputs": [
    {
     "name": "stdout",
     "output_type": "stream",
     "text": [
      "dict_values([10, 20, 30])\n"
     ]
    }
   ],
   "source": [
    "set_5={'x': 10, 'y': 20, 'z': 30}\n",
    "sel_set_5=set_5.values()\n",
    "print(sel_set_5)"
   ]
  },
  {
   "cell_type": "code",
   "execution_count": 75,
   "id": "a51bd7b5-f378-4298-bbf0-2cebeff7fa9a",
   "metadata": {},
   "outputs": [
    {
     "name": "stdout",
     "output_type": "stream",
     "text": [
      "{'name': 'Anna', 'age': 25}\n"
     ]
    }
   ],
   "source": [
    "details={'name': 'Anna', 'city': 'Paris', 'age': 25}\n",
    "updated_details=details.pop('city')\n",
    "print(details)\n"
   ]
  },
  {
   "cell_type": "code",
   "execution_count": 79,
   "id": "91f58e23-3a34-41ca-804d-57f8ce878061",
   "metadata": {},
   "outputs": [
    {
     "name": "stdout",
     "output_type": "stream",
     "text": [
      "{'a': 1, 'b': 2, 'c': 3, 'd': 4}\n"
     ]
    }
   ],
   "source": [
    "dict1 = {'a': 1, 'b': 2}\n",
    "dict2 = {'c': 3, 'd': 4}\n",
    "dict1.update(dict2)\n",
    "print(dict1)"
   ]
  },
  {
   "cell_type": "code",
   "execution_count": 83,
   "id": "41a1995a-5741-478f-921b-8337854228bd",
   "metadata": {},
   "outputs": [
    {
     "name": "stdout",
     "output_type": "stream",
     "text": [
      "{'Math': 90, 'Science': 95, 'English': 88}\n"
     ]
    }
   ],
   "source": [
    "grades = {'Math': 90, 'Science': 85, 'English': 88}\n",
    "grades.update({'Science':95})\n",
    "print(grades)"
   ]
  },
  {
   "cell_type": "code",
   "execution_count": 84,
   "id": "64f9054e-d656-45b0-a71a-6fc9e97b054b",
   "metadata": {},
   "outputs": [],
   "source": [
    "#TYPE CASTING"
   ]
  },
  {
   "cell_type": "code",
   "execution_count": 87,
   "id": "99a97ffa-adf7-4ab9-a413-a00653f9dfc0",
   "metadata": {},
   "outputs": [
    {
     "name": "stdout",
     "output_type": "stream",
     "text": [
      "[10, 20, 30, 40, 50]\n"
     ]
    }
   ],
   "source": [
    "multiple_10=(10, 20, 30, 40)\n",
    "multiple_101=list(multiple_10)\n",
    "multiple_101.append(50)\n",
    "print(multiple_101)"
   ]
  },
  {
   "cell_type": "code",
   "execution_count": 88,
   "id": "bef8945a-9893-4d29-8483-a4632b2aaad3",
   "metadata": {},
   "outputs": [
    {
     "name": "stdout",
     "output_type": "stream",
     "text": [
      "dict_keys(['apple', 'banana', 'cherry'])\n"
     ]
    }
   ],
   "source": [
    "fruits = {'apple': 1, 'banana': 2, 'cherry': 3}\n",
    "fruits_keys=fruits.keys()\n",
    "print(fruits_keys)"
   ]
  },
  {
   "cell_type": "code",
   "execution_count": 91,
   "id": "36ba8d2d-8bab-4a61-95ee-f82b3b6b1f47",
   "metadata": {},
   "outputs": [
    {
     "name": "stdout",
     "output_type": "stream",
     "text": [
      "(1, 2, 3, 4)\n"
     ]
    }
   ],
   "source": [
    "v=[1, 2, 3, 4]\n",
    "t_v=tuple(v)\n",
    "print(t_v)"
   ]
  }
 ],
 "metadata": {
  "kernelspec": {
   "display_name": "Python 3 (ipykernel)",
   "language": "python",
   "name": "python3"
  },
  "language_info": {
   "codemirror_mode": {
    "name": "ipython",
    "version": 3
   },
   "file_extension": ".py",
   "mimetype": "text/x-python",
   "name": "python",
   "nbconvert_exporter": "python",
   "pygments_lexer": "ipython3",
   "version": "3.13.5"
  }
 },
 "nbformat": 4,
 "nbformat_minor": 5
}

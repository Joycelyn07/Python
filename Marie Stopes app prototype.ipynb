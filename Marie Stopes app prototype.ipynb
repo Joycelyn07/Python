{
 "cells": [
  {
   "cell_type": "code",
   "execution_count": 1,
   "id": "d2349ceb-e1ca-40f0-9c88-cbf46c3e95ac",
   "metadata": {},
   "outputs": [],
   "source": [
    "# Marie Stopes Appointment Booking\n",
    "\n",
    "class User:\n",
    "    def __init__(self, name, contact, age, sex, branch):\n",
    "        self.name = name\n",
    "        self.contact = contact\n",
    "        self.age = age\n",
    "        self.sex = sex\n",
    "        self.branch = branch\n",
    "    \n",
    "        \n",
    "\n",
    "class Booking:\n",
    "    def __init__(self, user, health_service, date, preferred_time, doctor, branch, price):\n",
    "        self.user = user\n",
    "        self.health_service = health_service\n",
    "        self.date = date\n",
    "        self.preferred_time = preferred_time\n",
    "        self.doctor = doctor\n",
    "        self.branch = branch\n",
    "        self.price = price\n",
    "\n",
    "    def display_summary(self):\n",
    "        print(\"\\n📋 Marie Stopes Booking Confirmation:\")\n",
    "        print(f\"Name: {self.user.name}\")\n",
    "        print(f\"Contact: {self.user.contact}\")\n",
    "        print(f\"Age: {self.user.age}\")\n",
    "        print(f\"Sex: {self.user.sex}\")\n",
    "        print(f\"Branch: {self.user.branch}\")\n",
    "        print(f\"Service Booked: {self.health_service}\")\n",
    "        print(f\"Charge GHS: {self.price}\")\n",
    "        print(f\"Date: {self.date}\")\n",
    "        print(f\"Preferred Time: {self.preferred_time}\")\n",
    "        print(f\"Doctor: Dr. {self.doctor}\")\n",
    "        print(\"\\n✅ Your appointment has been booked successfully!\")\n",
    "\n",
    "\n",
    "class MarieStopesApp:\n",
    "    def __init__(self):\n",
    "        self.branches = [\"Tesano\", \"Tema New Town\", \"Takoradi, Kwesimintsim\", \"Nungua\", \"Kumasi, Santasi\", \"Madina\", \"Koforidua, Nkawkaw\", \"Nima\", \"Kokomlemle\", \"Kasoa\", \"Dansoman\", \"Bukom\", \"Ashaiman\"]\n",
    "        self.services = [\"Family Planning\", \"STI Screening\", \"Antenatal Care\", \"Pregnancy Termination\", \"Counseling\", \"Men's clinic\"]\n",
    "        self.dates = [\"Wed.23/07/25\", \"Thur.24/07/25\", \"Fri.25/07/25\", \"Sat.26/07/25\", \"Mon.28/07/25\", \"Tue.29/07/25\", \"Wed.30/07/25\", \"Thur.31/07/25\"]\n",
    "        self.time_slots = [\"9:00 AM\", \"11:00 AM\", \"1:00 PM\", \"3:00 PM\"]\n",
    "        self.doctors = [\"Derrick Amponsah\", \"Rosa Jacobs\", \"Naa Adjeley Kwafo\", \"Jesse Dzabs\", \"Kwame Ofori\", \"Linda Mensah\", \"Anna Melbourne\", \"Benedict Philips\", \"Eli Dogbevia\", \"Bella Asamoah\"]\n",
    "        self.prices = {\"Family Planning\":200, \"STI Screening\":300, \"Antenatal Care\":500, \"Pregnancy Termination\":1000, \"Counseling\": 100, \"Men's clinic\": 250}\n",
    "                         \n",
    "                        \n",
    "                         \n",
    "                       \n",
    "        \n",
    "\n",
    "    def get_user_input(self, prompt, options=None):\n",
    "        if options:\n",
    "            for i, option in enumerate(options, 1):\n",
    "                print(f\"{i}. {option}\")\n",
    "            while True:\n",
    "                try:\n",
    "                    choice = int(input(prompt))\n",
    "                    if 1 <= choice <= len(options):\n",
    "                        return options[choice - 1]\n",
    "                    else:\n",
    "                        print(\"❌ Invalid choice. Try again.\")\n",
    "                except ValueError:\n",
    "                    print(\"❌ Please enter a number.\")\n",
    "        else:\n",
    "            return input(prompt)\n",
    "\n",
    "    def run(self):\n",
    "        print(\"Welcome to Marie Stopes Ghana Appointment Booking System\\n\")\n",
    "\n",
    "        name = self.get_user_input(\"Enter your full name: \")\n",
    "        contact = self.get_user_input(\"Enter your contact number: \")\n",
    "        age = self.get_user_input(\"Enter your age: \")\n",
    "        sex = self.get_user_input(\"Enter your sex (M/F): \")\n",
    "\n",
    "        print(\"\\nSelect your preferred branch:\")\n",
    "        branch = self.get_user_input(\"Your choice: \", self.branches)\n",
    "\n",
    "        print(\"\\nChoose a service:\")\n",
    "        service = self.get_user_input(\"Your choice: \", self.services)\n",
    "        price = self.prices[service]\n",
    "\n",
    "        print(\"\\nSelect preferred date:\")\n",
    "        date = self.get_user_input(\"Your choice: \", self.dates)\n",
    "\n",
    "        print(\"\\nSelect preferred time:\")\n",
    "        time = self.get_user_input(\"Your choice: \", self.time_slots)\n",
    "\n",
    "        print(\"\\nChoose a doctor:\")\n",
    "        doctor = self.get_user_input(\"Your choice: \", self.doctors)\n",
    "\n",
    "\n",
    "        user = User(name, contact, age, sex, branch)\n",
    "        booking = Booking(user, service, date, time, doctor, branch, price)\n",
    "        booking.display_summary()\n",
    "\n",
    "\n"
   ]
  },
  {
   "cell_type": "code",
   "execution_count": 2,
   "id": "fbe76cdd-9d6c-44bf-aef9-55405b6c1dac",
   "metadata": {},
   "outputs": [
    {
     "name": "stdout",
     "output_type": "stream",
     "text": [
      "Welcome to Marie Stopes Ghana Appointment Booking System\n",
      "\n"
     ]
    },
    {
     "name": "stdin",
     "output_type": "stream",
     "text": [
      "Enter your full name:  Joy\n",
      "Enter your contact number:  0246717214\n",
      "Enter your age:  24\n",
      "Enter your sex (M/F):  F\n"
     ]
    },
    {
     "name": "stdout",
     "output_type": "stream",
     "text": [
      "\n",
      "Select your preferred branch:\n",
      "1. Tesano\n",
      "2. Tema New Town\n",
      "3. Takoradi, Kwesimintsim\n",
      "4. Nungua\n",
      "5. Kumasi, Santasi\n",
      "6. Madina\n",
      "7. Koforidua, Nkawkaw\n",
      "8. Nima\n",
      "9. Kokomlemle\n",
      "10. Kasoa\n",
      "11. Dansoman\n",
      "12. Bukom\n",
      "13. Ashaiman\n"
     ]
    },
    {
     "name": "stdin",
     "output_type": "stream",
     "text": [
      "Your choice:  2\n"
     ]
    },
    {
     "name": "stdout",
     "output_type": "stream",
     "text": [
      "\n",
      "Choose a service:\n",
      "1. Family Planning\n",
      "2. STI Screening\n",
      "3. Antenatal Care\n",
      "4. Pregnancy Termination\n",
      "5. Counseling\n",
      "6. Men's clinic\n"
     ]
    },
    {
     "name": "stdin",
     "output_type": "stream",
     "text": [
      "Your choice:  1\n"
     ]
    },
    {
     "name": "stdout",
     "output_type": "stream",
     "text": [
      "\n",
      "Select preferred date:\n",
      "1. Wed.23/07/25\n",
      "2. Thur.24/07/25\n",
      "3. Fri.25/07/25\n",
      "4. Sat.26/07/25\n",
      "5. Mon.28/07/25\n",
      "6. Tue.29/07/25\n",
      "7. Wed.30/07/25\n",
      "8. Thur.31/07/25\n"
     ]
    },
    {
     "name": "stdin",
     "output_type": "stream",
     "text": [
      "Your choice:  3\n"
     ]
    },
    {
     "name": "stdout",
     "output_type": "stream",
     "text": [
      "\n",
      "Select preferred time:\n",
      "1. 9:00 AM\n",
      "2. 11:00 AM\n",
      "3. 1:00 PM\n",
      "4. 3:00 PM\n"
     ]
    },
    {
     "name": "stdin",
     "output_type": "stream",
     "text": [
      "Your choice:  1\n"
     ]
    },
    {
     "name": "stdout",
     "output_type": "stream",
     "text": [
      "\n",
      "Choose a doctor:\n",
      "1. Derrick Amponsah\n",
      "2. Rosa Jacobs\n",
      "3. Naa Adjeley Kwafo\n",
      "4. Jesse Dzabs\n",
      "5. Kwame Ofori\n",
      "6. Linda Mensah\n",
      "7. Anna Melbourne\n",
      "8. Benedict Philips\n",
      "9. Eli Dogbevia\n",
      "10. Bella Asamoah\n"
     ]
    },
    {
     "name": "stdin",
     "output_type": "stream",
     "text": [
      "Your choice:  7\n"
     ]
    },
    {
     "name": "stdout",
     "output_type": "stream",
     "text": [
      "\n",
      "📋 Marie Stopes Booking Confirmation:\n",
      "Name: Joy\n",
      "Contact: 0246717214\n",
      "Age: 24\n",
      "Sex: F\n",
      "Branch: Tema New Town\n",
      "Service Booked: Family Planning\n",
      "Amount Owed GHS: 200\n",
      "Date: Fri.25/07/25\n",
      "Preferred Time: 9:00 AM\n",
      "Doctor: Dr. Anna Melbourne\n",
      "\n",
      "✅ Your appointment has been booked successfully!\n"
     ]
    }
   ],
   "source": [
    "\n",
    "# Run the app\n",
    "if __name__ == \"__main__\":\n",
    "    app = MarieStopesApp()\n",
    "    app.run()"
   ]
  },
  {
   "cell_type": "code",
   "execution_count": null,
   "id": "4e200eae-a21e-4cc4-9578-0bcc01225f23",
   "metadata": {},
   "outputs": [],
   "source": [
    "\n",
    "\n"
   ]
  }
 ],
 "metadata": {
  "kernelspec": {
   "display_name": "Python 3 (ipykernel)",
   "language": "python",
   "name": "python3"
  },
  "language_info": {
   "codemirror_mode": {
    "name": "ipython",
    "version": 3
   },
   "file_extension": ".py",
   "mimetype": "text/x-python",
   "name": "python",
   "nbconvert_exporter": "python",
   "pygments_lexer": "ipython3",
   "version": "3.13.5"
  }
 },
 "nbformat": 4,
 "nbformat_minor": 5
}
